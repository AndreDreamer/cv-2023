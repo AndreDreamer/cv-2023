{
 "cells": [
  {
   "cell_type": "code",
   "execution_count": 2,
   "id": "70e29ae9-d211-4685-8fd9-1101be447961",
   "metadata": {},
   "outputs": [],
   "source": [
    "import cv2\n",
    "\n",
    "# Load pre-trained model\n",
    "net = cv2.dnn.readNet(\"yolov3.weights\", \"yolov3.cfg\")\n",
    "\n",
    "with open(\"coco.names\", \"r\") as f:\n",
    "    classes = [line.strip() for line in f.readlines()]\n",
    "\n",
    "image = cv2.imread(\"aa.jpeg\")"
   ]
  },
  {
   "cell_type": "code",
   "execution_count": 5,
   "id": "0c6fe4b3-90a9-4c23-a9d5-02152bd25bcd",
   "metadata": {},
   "outputs": [
    {
     "name": "stdout",
     "output_type": "stream",
     "text": [
      "['yolo_82', 'yolo_94', 'yolo_106']\n"
     ]
    }
   ],
   "source": [
    "height, width, _ = image.shape\n",
    "\n",
    "blob = cv2.dnn.blobFromImage(image, 1/255, (416, 416), swapRB=True, crop=False)\n",
    "\n",
    "net.setInput(blob)\n",
    "\n",
    "layer_names = net.getLayerNames()\n",
    "output_layer_names = [layer_names[i - 1] for i in net.getUnconnectedOutLayers()]\n",
    "\n",
    "outputs = net.forward(output_layer_names)\n",
    "print(output_layer_names)"
   ]
  },
  {
   "cell_type": "code",
   "execution_count": 3,
   "id": "9e5e9b8e-ea33-464c-8ed8-d23c531dffcc",
   "metadata": {},
   "outputs": [],
   "source": [
    "boxes = []\n",
    "confidences = []\n",
    "class_ids = []\n",
    "\n",
    "for output in outputs:\n",
    "\n",
    "    for detection in output:\n",
    "\n",
    "        scores = detection[5:]\n",
    "        class_id = scores.argmax()\n",
    "        confidence = scores[class_id]\n",
    "\n",
    "\n",
    "        if confidence > 0.5:\n",
    "\n",
    "            center_x = int(detection[0] * width)\n",
    "            center_y = int(detection[1] * height)\n",
    "            w = int(detection[2] * width)\n",
    "            h = int(detection[3] * height)\n",
    "\n",
    "\n",
    "            x = int(center_x - w / 2)\n",
    "            y = int(center_y - h / 2)\n",
    "\n",
    "\n",
    "            boxes.append([x, y, w, h])\n",
    "            confidences.append(float(confidence))\n",
    "            class_ids.append(class_id)\n",
    "\n",
    "indices = cv2.dnn.NMSBoxes(boxes, confidences, 0.5, 0.4)"
   ]
  },
  {
   "cell_type": "code",
   "execution_count": 4,
   "id": "ed1d7551-aa56-4ae2-8830-02c8616b5e33",
   "metadata": {},
   "outputs": [],
   "source": [
    "if len(indices) > 0:\n",
    "\n",
    "    for i in indices.flatten():\n",
    "\n",
    "        x, y, w, h = boxes[i]\n",
    "\n",
    "        cv2.rectangle(image, (x, y), (x + w, y + h), (0, 255, 0), 2)\n",
    "\n",
    "        label = f\"{classes[class_ids[i]]}: {confidences[i]:.2f}\"\n",
    "        cv2.putText(image, label, (x, y - 10), cv2.FONT_HERSHEY_SIMPLEX, 0.5, (0, 255, 0), 1)\n",
    "\n"
   ]
  },
  {
   "cell_type": "code",
   "execution_count": null,
   "id": "cf9b8e04-1ac8-4ae3-9a33-5a1daa271c9f",
   "metadata": {},
   "outputs": [],
   "source": [
    "cv2.imshow(\"Detected Objects\", image)\n",
    "cv2.waitKey(0)\n",
    "cv2.destroyAllWindows()"
   ]
  },
  {
   "cell_type": "code",
   "execution_count": null,
   "id": "7bb0ebc2-c81f-41e0-b652-faad4cd7e2ce",
   "metadata": {},
   "outputs": [],
   "source": []
  }
 ],
 "metadata": {
  "kernelspec": {
   "display_name": "Python 3 (ipykernel)",
   "language": "python",
   "name": "python3"
  },
  "language_info": {
   "codemirror_mode": {
    "name": "ipython",
    "version": 3
   },
   "file_extension": ".py",
   "mimetype": "text/x-python",
   "name": "python",
   "nbconvert_exporter": "python",
   "pygments_lexer": "ipython3",
   "version": "3.9.13"
  }
 },
 "nbformat": 4,
 "nbformat_minor": 5
}
